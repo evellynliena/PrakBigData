{
  "nbformat": 4,
  "nbformat_minor": 0,
  "metadata": {
    "colab": {
      "provenance": [],
      "authorship_tag": "ABX9TyPSuy9R7n+u6xkvf0nZ78eh",
      "include_colab_link": true
    },
    "kernelspec": {
      "name": "python3",
      "display_name": "Python 3"
    },
    "language_info": {
      "name": "python"
    }
  },
  "cells": [
    {
      "cell_type": "markdown",
      "metadata": {
        "id": "view-in-github",
        "colab_type": "text"
      },
      "source": [
        "<a href=\"https://colab.research.google.com/github/evellynliena/PrakBigData/blob/master/Week_3.ipynb\" target=\"_parent\"><img src=\"https://colab.research.google.com/assets/colab-badge.svg\" alt=\"Open In Colab\"/></a>"
      ]
    },
    {
      "cell_type": "code",
      "execution_count": null,
      "metadata": {
        "colab": {
          "base_uri": "https://localhost:8080/"
        },
        "id": "xSnUG5uJiJJU",
        "outputId": "44e6d9a8-30e8-4365-d50f-bc95c00a6890"
      },
      "outputs": [
        {
          "output_type": "stream",
          "name": "stdout",
          "text": [
            "+------------+----------+------+\n",
            "|EmployeeName|Department|Salary|\n",
            "+------------+----------+------+\n",
            "|       James|     Sales|  3000|\n",
            "|     Michael|     Sales|  4600|\n",
            "|      Robert|     Sales|  4100|\n",
            "|       Maria|   Finance|  3000|\n",
            "+------------+----------+------+\n",
            "\n"
          ]
        }
      ],
      "source": [
        "from pyspark.sql import SparkSession\n",
        "spark = SparkSession.builder.appName('HandsOnPertemuan3').getOrCreate()\n",
        "\n",
        "data = [('James', 'Sales', 3000),\n",
        "        ('Michael', 'Sales', 4600),\n",
        "        ('Robert', 'Sales', 4100),\n",
        "        ('Maria', 'Finance', 3000)]\n",
        "columns = ['EmployeeName', 'Department', 'Salary']\n",
        "\n",
        "df = spark.createDataFrame(data, schema=columns)\n",
        "df.show()"
      ]
    },
    {
      "cell_type": "code",
      "source": [
        "from pyspark.sql import SparkSession\n",
        "from pyspark.sql.functions import col, mean, max, sum\n",
        "\n",
        "spark = SparkSession.builder.appName('HandsOnPertemuan3').getOrCreate()\n",
        "\n",
        "data = [\n",
        "    ('James', 'Sales', 3000),\n",
        "    ('Michael', 'Sales', 4600),\n",
        "    ('Robert', 'Sales', 4100),\n",
        "    ('Maria', 'Finance', 3000)\n",
        "]\n",
        "columns = ['EmployeeName', 'Department', 'Salary']\n",
        "\n",
        "df = spark.createDataFrame(data, schema=columns)\n",
        "\n",
        "print(\"=== DataFrame Awal ===\")\n",
        "df.show()\n",
        "\n",
        "print(\"=== Select EmployeeName & Salary ===\")\n",
        "df.select('EmployeeName', 'Salary').show()\n",
        "\n",
        "print(\"=== Filter Salary > 3000 ===\")\n",
        "df.filter(df['Salary'] > 3000).show()\n",
        "\n",
        "print(\"=== Rata-rata gaji per Department ===\")\n",
        "df.groupBy('Department').avg('Salary').show()\n",
        "\n",
        "print(\"=== Total gaji per departemen ===\")\n",
        "df.groupBy(\"Department\").sum(\"Salary\").show()\n",
        "\n",
        "print(\"=== Insight per departemen (mean, max, sum) ===\")\n",
        "df.groupBy(\"Department\").agg(\n",
        "    mean(\"Salary\").alias(\"AvgSalary\"),\n",
        "    max(\"Salary\").alias(\"MaxSalary\"),\n",
        "    sum(\"Salary\").alias(\"TotalSalary\")\n",
        ").show()"
      ],
      "metadata": {
        "colab": {
          "base_uri": "https://localhost:8080/"
        },
        "id": "puCTUNJri2nE",
        "outputId": "f7b651c6-80f7-415e-b88a-54e2809bced3"
      },
      "execution_count": null,
      "outputs": [
        {
          "output_type": "stream",
          "name": "stdout",
          "text": [
            "=== DataFrame Awal ===\n",
            "+------------+----------+------+\n",
            "|EmployeeName|Department|Salary|\n",
            "+------------+----------+------+\n",
            "|       James|     Sales|  3000|\n",
            "|     Michael|     Sales|  4600|\n",
            "|      Robert|     Sales|  4100|\n",
            "|       Maria|   Finance|  3000|\n",
            "+------------+----------+------+\n",
            "\n",
            "=== Select EmployeeName & Salary ===\n",
            "+------------+------+\n",
            "|EmployeeName|Salary|\n",
            "+------------+------+\n",
            "|       James|  3000|\n",
            "|     Michael|  4600|\n",
            "|      Robert|  4100|\n",
            "|       Maria|  3000|\n",
            "+------------+------+\n",
            "\n",
            "=== Filter Salary > 3000 ===\n",
            "+------------+----------+------+\n",
            "|EmployeeName|Department|Salary|\n",
            "+------------+----------+------+\n",
            "|     Michael|     Sales|  4600|\n",
            "|      Robert|     Sales|  4100|\n",
            "+------------+----------+------+\n",
            "\n",
            "=== Rata-rata gaji per Department ===\n",
            "+----------+-----------+\n",
            "|Department|avg(Salary)|\n",
            "+----------+-----------+\n",
            "|     Sales|     3900.0|\n",
            "|   Finance|     3000.0|\n",
            "+----------+-----------+\n",
            "\n",
            "=== Total gaji per departemen ===\n",
            "+----------+-----------+\n",
            "|Department|sum(Salary)|\n",
            "+----------+-----------+\n",
            "|     Sales|      11700|\n",
            "|   Finance|       3000|\n",
            "+----------+-----------+\n",
            "\n",
            "=== Insight per departemen (mean, max, sum) ===\n",
            "+----------+---------+---------+-----------+\n",
            "|Department|AvgSalary|MaxSalary|TotalSalary|\n",
            "+----------+---------+---------+-----------+\n",
            "|     Sales|   3900.0|     4600|      11700|\n",
            "|   Finance|   3000.0|     3000|       3000|\n",
            "+----------+---------+---------+-----------+\n",
            "\n"
          ]
        }
      ]
    },
    {
      "cell_type": "code",
      "source": [
        "from pyspark.sql import SparkSession\n",
        "from pyspark.sql.functions import col\n",
        "\n",
        "spark = SparkSession.builder.appName('HandsOnPertemuan3').getOrCreate()\n",
        "\n",
        "data = [\n",
        "    ('James', 'Sales', 3000),\n",
        "    ('Michael', 'Sales', 4600),\n",
        "    ('Robert', 'Sales', 4100),\n",
        "    ('Maria', 'Finance', 3000)\n",
        "]\n",
        "columns = ['EmployeeName', 'Department', 'Salary']\n",
        "\n",
        "df = spark.createDataFrame(data, schema=columns)\n",
        "\n",
        "df = df.withColumn('SalaryBonus', col('Salary') * 0.1)\n",
        "df.show()\n",
        "\n",
        "df = df.withColumn('TotalCompensation', col('Salary') + col('SalaryBonus'))\n",
        "df.show()"
      ],
      "metadata": {
        "colab": {
          "base_uri": "https://localhost:8080/"
        },
        "id": "3cIadNgUklyQ",
        "outputId": "ae5289ff-de40-414d-bd55-a56ddfd924b9"
      },
      "execution_count": null,
      "outputs": [
        {
          "output_type": "stream",
          "name": "stdout",
          "text": [
            "+------------+----------+------+-----------+\n",
            "|EmployeeName|Department|Salary|SalaryBonus|\n",
            "+------------+----------+------+-----------+\n",
            "|       James|     Sales|  3000|      300.0|\n",
            "|     Michael|     Sales|  4600|      460.0|\n",
            "|      Robert|     Sales|  4100|      410.0|\n",
            "|       Maria|   Finance|  3000|      300.0|\n",
            "+------------+----------+------+-----------+\n",
            "\n",
            "+------------+----------+------+-----------+-----------------+\n",
            "|EmployeeName|Department|Salary|SalaryBonus|TotalCompensation|\n",
            "+------------+----------+------+-----------+-----------------+\n",
            "|       James|     Sales|  3000|      300.0|           3300.0|\n",
            "|     Michael|     Sales|  4600|      460.0|           5060.0|\n",
            "|      Robert|     Sales|  4100|      410.0|           4510.0|\n",
            "|       Maria|   Finance|  3000|      300.0|           3300.0|\n",
            "+------------+----------+------+-----------+-----------------+\n",
            "\n"
          ]
        }
      ]
    },
    {
      "cell_type": "code",
      "source": [
        "from pyspark.sql.window import Window\n",
        "from pyspark.sql import functions as F\n",
        "\n",
        "windowSpec = Window.partitionBy('Department').orderBy('Salary')\n",
        "df.withColumn('Rank', F.rank().over(windowSpec)).show()"
      ],
      "metadata": {
        "colab": {
          "base_uri": "https://localhost:8080/"
        },
        "id": "x6RlsRmok3md",
        "outputId": "5e66397a-4232-4bb5-8771-3a622e623f7b"
      },
      "execution_count": null,
      "outputs": [
        {
          "output_type": "stream",
          "name": "stdout",
          "text": [
            "+------------+----------+------+-----------+-----------------+----+\n",
            "|EmployeeName|Department|Salary|SalaryBonus|TotalCompensation|Rank|\n",
            "+------------+----------+------+-----------+-----------------+----+\n",
            "|       Maria|   Finance|  3000|      300.0|           3300.0|   1|\n",
            "|       James|     Sales|  3000|      300.0|           3300.0|   1|\n",
            "|      Robert|     Sales|  4100|      410.0|           4510.0|   2|\n",
            "|     Michael|     Sales|  4600|      460.0|           5060.0|   3|\n",
            "+------------+----------+------+-----------+-----------------+----+\n",
            "\n"
          ]
        }
      ]
    },
    {
      "cell_type": "markdown",
      "source": [
        "# **TUGAS 5**"
      ],
      "metadata": {
        "id": "4F272U3glyVM"
      }
    },
    {
      "cell_type": "code",
      "source": [
        "import kagglehub\n",
        "\n",
        "path = kagglehub.dataset_download(\"rounakbanik/the-movies-dataset\")\n",
        "\n",
        "print(\"Path to dataset files:\", path)"
      ],
      "metadata": {
        "colab": {
          "base_uri": "https://localhost:8080/"
        },
        "id": "qm5BGhb9k883",
        "outputId": "5d36ea95-dd52-4fa6-c5a2-fbb26b1a47d1"
      },
      "execution_count": null,
      "outputs": [
        {
          "output_type": "stream",
          "name": "stdout",
          "text": [
            "Path to dataset files: /kaggle/input/the-movies-dataset\n"
          ]
        }
      ]
    },
    {
      "cell_type": "code",
      "source": [
        "from pyspark.sql import SparkSession\n",
        "from pyspark.sql import functions as F\n",
        "\n",
        "spark = SparkSession.builder.appName(\"MoviesDataAnalysis\").getOrCreate()\n",
        "\n",
        "movies_df = spark.read.csv(\n",
        "    \"/kaggle/input/the-movies-dataset/movies_metadata.csv\",\n",
        "    header=True,\n",
        "    inferSchema=True\n",
        ")\n",
        "\n",
        "movies_df_clean = movies_df \\\n",
        "    .withColumn(\"budget\", F.col(\"budget\").cast(\"long\")) \\\n",
        "    .withColumn(\"revenue\", F.col(\"revenue\").cast(\"long\")) \\\n",
        "    .withColumn(\"runtime\", F.col(\"runtime\").cast(\"double\")) \\\n",
        "    .withColumn(\"popularity\", F.col(\"popularity\").cast(\"double\")) \\\n",
        "    .withColumn(\"vote_average\", F.col(\"vote_average\").cast(\"double\")) \\\n",
        "    .withColumn(\"vote_count\", F.col(\"vote_count\").cast(\"long\"))\n",
        "\n",
        "print(\"=== Struktur DataFrame ===\")\n",
        "movies_df.printSchema()"
      ],
      "metadata": {
        "colab": {
          "base_uri": "https://localhost:8080/"
        },
        "id": "SEnCI96QnHCR",
        "outputId": "9fe6c19a-d888-448d-e8b6-1452de1a7f9f"
      },
      "execution_count": null,
      "outputs": [
        {
          "output_type": "stream",
          "name": "stdout",
          "text": [
            "=== Struktur DataFrame ===\n",
            "root\n",
            " |-- adult: string (nullable = true)\n",
            " |-- belongs_to_collection: string (nullable = true)\n",
            " |-- budget: string (nullable = true)\n",
            " |-- genres: string (nullable = true)\n",
            " |-- homepage: string (nullable = true)\n",
            " |-- id: string (nullable = true)\n",
            " |-- imdb_id: string (nullable = true)\n",
            " |-- original_language: string (nullable = true)\n",
            " |-- original_title: string (nullable = true)\n",
            " |-- overview: string (nullable = true)\n",
            " |-- popularity: string (nullable = true)\n",
            " |-- poster_path: string (nullable = true)\n",
            " |-- production_companies: string (nullable = true)\n",
            " |-- production_countries: string (nullable = true)\n",
            " |-- release_date: string (nullable = true)\n",
            " |-- revenue: string (nullable = true)\n",
            " |-- runtime: string (nullable = true)\n",
            " |-- spoken_languages: string (nullable = true)\n",
            " |-- status: string (nullable = true)\n",
            " |-- tagline: string (nullable = true)\n",
            " |-- title: string (nullable = true)\n",
            " |-- video: string (nullable = true)\n",
            " |-- vote_average: string (nullable = true)\n",
            " |-- vote_count: string (nullable = true)\n",
            "\n"
          ]
        }
      ]
    },
    {
      "cell_type": "code",
      "source": [
        "from pyspark.sql.window import Window\n",
        "\n",
        "movies_nonzero = movies_df_clean.filter(F.col(\"revenue\") > 0)\n",
        "\n",
        "movies_nonzero = movies_nonzero.withColumn(\"year\", F.year(\"release_date\"))\n",
        "\n",
        "windowSpec = Window.partitionBy(\"year\").orderBy(F.desc(\"revenue\"))\n",
        "\n",
        "top_movies = movies_nonzero \\\n",
        "    .withColumn(\"Rank\", F.rank().over(windowSpec)) \\\n",
        "    .filter(\"Rank = 1\") \\\n",
        "    .select(\"year\", \"title\", \"revenue\", \"Rank\") \\\n",
        "    .orderBy(\"year\")\n",
        "\n",
        "top_movies_clean = top_movies.filter(F.col(\"year\").isNotNull())\n",
        "top_movies_clean.show(20)"
      ],
      "metadata": {
        "colab": {
          "base_uri": "https://localhost:8080/"
        },
        "id": "KwYhQuoPr-F5",
        "outputId": "f3b69683-a62f-40c2-d424-08b1a154519b"
      },
      "execution_count": null,
      "outputs": [
        {
          "output_type": "stream",
          "name": "stdout",
          "text": [
            "+----+--------------------+--------+----+\n",
            "|year|               title| revenue|Rank|\n",
            "+----+--------------------+--------+----+\n",
            "|1915|The Birth of a Na...|11000000|   1|\n",
            "|1916|20,000 Leagues Un...| 8000000|   1|\n",
            "|1918|              Mickey| 8000000|   1|\n",
            "|1921|             The Kid| 2500000|   1|\n",
            "|1922|       Foolish Wives|  400200|   1|\n",
            "|1923|        Safety Last!|     623|   1|\n",
            "|1924| The Thief of Bagdad| 1213880|   1|\n",
            "|1925|      The Big Parade|22000000|   1|\n",
            "|1926|            Sparrows|  966878|   1|\n",
            "|1927|        My Best Girl| 1027757|   1|\n",
            "|1928|  Lights of New York| 1200000|   1|\n",
            "|1929| The Broadway Melody| 4358000|   1|\n",
            "|1930|       Hell's Angels| 8000000|   1|\n",
            "|1931|        Frankenstein|12000000|   1|\n",
            "|1932|         Grand Hotel| 2594000|   1|\n",
            "|1933|           King Kong|10000000|   1|\n",
            "|1934|It Happened One N...| 4500000|   1|\n",
            "|1935|Mutiny on the Bounty| 4460000|   1|\n",
            "|1936|        Modern Times| 8500000|   1|\n",
            "|1937|        Pépé le Moko|  153936|   1|\n",
            "+----+--------------------+--------+----+\n",
            "only showing top 20 rows\n",
            "\n"
          ]
        }
      ]
    },
    {
      "cell_type": "code",
      "source": [
        "movies_clean = movies_df2.withColumn(\n",
        "    \"vote_average\", F.col(\"vote_average\").cast(\"double\")\n",
        ")\n",
        "movies_clean = movies_clean.filter(\n",
        "    (F.col(\"vote_average\").isNotNull()) &\n",
        "    (F.col(\"vote_average\") >= 0) &\n",
        "    (F.col(\"vote_average\") <= 10)\n",
        ")\n",
        "movies_clean.select(\n",
        "    F.avg(\"vote_average\").alias(\"AvgRating\"),\n",
        "    F.max(\"vote_average\").alias(\"MaxRating\"),\n",
        "    F.min(\"vote_average\").alias(\"MinRating\")\n",
        ").show()\n"
      ],
      "metadata": {
        "colab": {
          "base_uri": "https://localhost:8080/"
        },
        "id": "eDu7mwC9ngeT",
        "outputId": "6228f840-03e3-4c87-9f0f-a872e72ae47d"
      },
      "execution_count": null,
      "outputs": [
        {
          "output_type": "stream",
          "name": "stdout",
          "text": [
            "+-----------------+---------+---------+\n",
            "|        AvgRating|MaxRating|MinRating|\n",
            "+-----------------+---------+---------+\n",
            "|5.590573954904963|     10.0|      0.0|\n",
            "+-----------------+---------+---------+\n",
            "\n"
          ]
        }
      ]
    },
    {
      "cell_type": "code",
      "source": [
        "from pyspark.sql.types import ArrayType, StructType, StructField, StringType\n",
        "from pyspark.sql.functions import from_json, explode, col\n",
        "\n",
        "genre_schema = ArrayType(StructType([\n",
        "    StructField(\"id\", StringType()),\n",
        "    StructField(\"name\", StringType())\n",
        "]))\n",
        "\n",
        "movies_df2 = movies_df.withColumn(\"genres\", from_json(col(\"genres\"), genre_schema))\n",
        "\n",
        "genre_counts = movies_df2.withColumn(\"genre\", explode(col(\"genres.name\"))) \\\n",
        "    .groupBy(\"genre\") \\\n",
        "    .count() \\\n",
        "    .orderBy(F.desc(\"count\"))\n",
        "\n",
        "genre_counts.show(10)"
      ],
      "metadata": {
        "colab": {
          "base_uri": "https://localhost:8080/"
        },
        "id": "-rfgiS_7noMH",
        "outputId": "b6b3b208-a4ce-41ec-e0ae-fe94a865cb65"
      },
      "execution_count": null,
      "outputs": [
        {
          "output_type": "stream",
          "name": "stdout",
          "text": [
            "+---------------+-----+\n",
            "|          genre|count|\n",
            "+---------------+-----+\n",
            "|          Drama|20239|\n",
            "|         Comedy|13123|\n",
            "|       Thriller| 7612|\n",
            "|        Romance| 6722|\n",
            "|         Action| 6581|\n",
            "|         Horror| 4656|\n",
            "|          Crime| 4294|\n",
            "|    Documentary| 3929|\n",
            "|      Adventure| 3477|\n",
            "|Science Fiction| 3041|\n",
            "+---------------+-----+\n",
            "only showing top 10 rows\n",
            "\n"
          ]
        }
      ]
    },
    {
      "cell_type": "code",
      "source": [
        "movies_final = movies_clean.filter(F.col(\"year\").isNotNull())\n",
        "\n",
        "topN_window = Window.partitionBy(\"year\").orderBy(F.desc(\"revenue\"))\n",
        "movies_top3 = movies_final.withColumn(\"Rank\", F.dense_rank().over(topN_window)) \\\n",
        "                          .filter(F.col(\"Rank\") <= 3)\n",
        "\n",
        "movies_top3.select(\"year\", \"title\", \"revenue\", \"Rank\") \\\n",
        "    .orderBy(\"year\", \"Rank\") \\\n",
        "    .show(20, truncate=False)"
      ],
      "metadata": {
        "colab": {
          "base_uri": "https://localhost:8080/"
        },
        "id": "pC9m_8tYn1uu",
        "outputId": "d1354b77-17c3-4e64-f55b-15c748c8783d"
      },
      "execution_count": null,
      "outputs": [
        {
          "output_type": "stream",
          "name": "stdout",
          "text": [
            "+----+-----------------------------+---------+----+\n",
            "|year|title                        |revenue  |Rank|\n",
            "+----+-----------------------------+---------+----+\n",
            "|1915|The Birth of a Nation        |1.1E7    |1   |\n",
            "|1915|The Cheat                    |137365.0 |2   |\n",
            "|1916|20,000 Leagues Under the Sea |8000000.0|1   |\n",
            "|1918|Mickey                       |8000000.0|1   |\n",
            "|1921|The Kid                      |2500000.0|1   |\n",
            "|1922|Foolish Wives                |400200.0 |1   |\n",
            "|1923|Safety Last!                 |623.0    |1   |\n",
            "|1924|The Thief of Bagdad          |1213880.0|1   |\n",
            "|1925|The Big Parade               |2.2E7    |1   |\n",
            "|1925|Ben-Hur: A Tale of the Christ|9000000.0|2   |\n",
            "|1925|The Gold Rush                |2500000.0|3   |\n",
            "|1926|Sparrows                     |966878.0 |1   |\n",
            "|1926|Flesh and the Devil          |658000.0 |2   |\n",
            "|1927|My Best Girl                 |1027757.0|1   |\n",
            "|1927|Metropolis                   |650422.0 |2   |\n",
            "|1927|Sunrise: A Song of Two Humans|121.0    |3   |\n",
            "|1928|Lights of New York           |1200000.0|1   |\n",
            "|1928|West of Zanzibar             |921000.0 |2   |\n",
            "|1928|Across to Singapore          |596000.0 |3   |\n",
            "|1929|The Broadway Melody          |4358000.0|1   |\n",
            "+----+-----------------------------+---------+----+\n",
            "only showing top 20 rows\n",
            "\n"
          ]
        }
      ]
    },
    {
      "cell_type": "code",
      "source": [
        "avg_revenue = movies_final.groupBy(\"year\").agg(F.avg(\"revenue\").alias(\"AvgRevenue\"))\n",
        "avg_revenue.orderBy(\"year\").show(20)"
      ],
      "metadata": {
        "colab": {
          "base_uri": "https://localhost:8080/"
        },
        "id": "Mx1leooOutil",
        "outputId": "db2c918f-521a-42c1-b275-b887512a0037"
      },
      "execution_count": null,
      "outputs": [
        {
          "output_type": "stream",
          "name": "stdout",
          "text": [
            "+----+------------------+\n",
            "|year|        AvgRevenue|\n",
            "+----+------------------+\n",
            "|1915|         5568682.5|\n",
            "|1916|         8000000.0|\n",
            "|1918|         8000000.0|\n",
            "|1921|         2500000.0|\n",
            "|1922|          400200.0|\n",
            "|1923|             623.0|\n",
            "|1924|         1213880.0|\n",
            "|1925|         6709020.2|\n",
            "|1926|          812439.0|\n",
            "|1927| 559433.3333333334|\n",
            "|1928|          543529.6|\n",
            "|1929|         4358000.0|\n",
            "|1930|         4003970.0|\n",
            "|1931|         3814592.5|\n",
            "|1932|          798512.5|\n",
            "|1933|         5074200.0|\n",
            "|1934|2347666.6666666665|\n",
            "|1935|         2010366.2|\n",
            "|1936|         3734000.0|\n",
            "|1937|          153936.0|\n",
            "+----+------------------+\n",
            "only showing top 20 rows\n",
            "\n"
          ]
        }
      ]
    },
    {
      "cell_type": "code",
      "source": [
        "movies_final = movies_final.withColumn(\"vote_average\", F.col(\"vote_average\").cast(\"double\"))\n",
        "\n",
        "movies_final.select(\"vote_average\", \"revenue\") \\\n",
        "    .summary(\"count\", \"mean\", \"min\", \"max\") \\\n",
        "    .show()"
      ],
      "metadata": {
        "colab": {
          "base_uri": "https://localhost:8080/"
        },
        "id": "MPGdosGuuw74",
        "outputId": "bd78d658-2863-465b-8eac-1cbfb59bf5e8"
      },
      "execution_count": null,
      "outputs": [
        {
          "output_type": "stream",
          "name": "stdout",
          "text": [
            "+-------+-----------------+-------------------+\n",
            "|summary|     vote_average|            revenue|\n",
            "+-------+-----------------+-------------------+\n",
            "|  count|             6795|               6798|\n",
            "|   mean|6.215349521707127|6.907081362547809E7|\n",
            "|    min|              0.0|                1.0|\n",
            "|    max|              9.5|      2.787965087E9|\n",
            "+-------+-----------------+-------------------+\n",
            "\n"
          ]
        }
      ]
    },
    {
      "cell_type": "code",
      "source": [
        "from pyspark.sql.types import DoubleType\n",
        "\n",
        "movies_clean = movies_df2.withColumn(\n",
        "    \"revenue\", F.col(\"revenue\").cast(\"double\")\n",
        ").withColumn(\n",
        "    \"release_date\", F.to_date(\"release_date\", \"yyyy-MM-dd\")\n",
        ").withColumn(\n",
        "    \"year\", F.year(\"release_date\")\n",
        ")\n",
        "\n",
        "movies_clean = movies_clean.filter(\n",
        "    (F.col(\"revenue\") > 0) & (F.col(\"year\").isNotNull())\n",
        ")\n",
        "\n",
        "windowSpec = Window.partitionBy(\"year\").orderBy(\"revenue\") \\\n",
        "                   .rowsBetween(Window.unboundedPreceding, Window.currentRow)\n",
        "\n",
        "movies_running = movies_clean.withColumn(\n",
        "    \"CumulativeRevenue\", F.sum(\"revenue\").over(windowSpec)\n",
        ")\n",
        "\n",
        "movies_running.select(\"title\", \"year\", \"revenue\", \"CumulativeRevenue\") \\\n",
        "    .orderBy(\"year\", \"CumulativeRevenue\") \\\n",
        "    .show(15, truncate=False)\n"
      ],
      "metadata": {
        "colab": {
          "base_uri": "https://localhost:8080/"
        },
        "id": "u7YnW_dCoNoT",
        "outputId": "17dd625c-5568-4d80-af32-10b508995b8b"
      },
      "execution_count": null,
      "outputs": [
        {
          "output_type": "stream",
          "name": "stdout",
          "text": [
            "+-----------------------------+----+---------+-----------------+\n",
            "|title                        |year|revenue  |CumulativeRevenue|\n",
            "+-----------------------------+----+---------+-----------------+\n",
            "|The Cheat                    |1915|137365.0 |137365.0         |\n",
            "|The Birth of a Nation        |1915|1.1E7    |1.1137365E7      |\n",
            "|20,000 Leagues Under the Sea |1916|8000000.0|8000000.0        |\n",
            "|Mickey                       |1918|8000000.0|8000000.0        |\n",
            "|The Kid                      |1921|2500000.0|2500000.0        |\n",
            "|Foolish Wives                |1922|400200.0 |400200.0         |\n",
            "|Safety Last!                 |1923|623.0    |623.0            |\n",
            "|The Thief of Bagdad          |1924|1213880.0|1213880.0        |\n",
            "|The Merry Widow              |1925|1.0      |1.0              |\n",
            "|Battleship Potemkin          |1925|45100.0  |45101.0          |\n",
            "|The Gold Rush                |1925|2500000.0|2545101.0        |\n",
            "|Ben-Hur: A Tale of the Christ|1925|9000000.0|1.1545101E7      |\n",
            "|The Big Parade               |1925|2.2E7    |3.3545101E7      |\n",
            "|Flesh and the Devil          |1926|658000.0 |658000.0         |\n",
            "|Sparrows                     |1926|966878.0 |1624878.0        |\n",
            "+-----------------------------+----+---------+-----------------+\n",
            "only showing top 15 rows\n",
            "\n"
          ]
        }
      ]
    },
    {
      "cell_type": "code",
      "source": [
        "rank_window = Window.partitionBy(\"year\").orderBy(F.desc(\"revenue\"))\n",
        "\n",
        "movies_ranked = movies_clean.withColumn(\"Rank\", F.rank().over(rank_window))\n",
        "\n",
        "movies_ranked.select(\"title\", \"year\", \"revenue\", \"Rank\") \\\n",
        "    .orderBy(\"year\", \"Rank\") \\\n",
        "    .show(20, truncate=False)"
      ],
      "metadata": {
        "colab": {
          "base_uri": "https://localhost:8080/"
        },
        "id": "wV75D5LTuqLB",
        "outputId": "2cbe4f0f-221b-4e61-b452-0a9838323ce8"
      },
      "execution_count": null,
      "outputs": [
        {
          "output_type": "stream",
          "name": "stdout",
          "text": [
            "+-----------------------------+----+---------+----+\n",
            "|title                        |year|revenue  |Rank|\n",
            "+-----------------------------+----+---------+----+\n",
            "|The Birth of a Nation        |1915|1.1E7    |1   |\n",
            "|The Cheat                    |1915|137365.0 |2   |\n",
            "|20,000 Leagues Under the Sea |1916|8000000.0|1   |\n",
            "|Mickey                       |1918|8000000.0|1   |\n",
            "|The Kid                      |1921|2500000.0|1   |\n",
            "|Foolish Wives                |1922|400200.0 |1   |\n",
            "|Safety Last!                 |1923|623.0    |1   |\n",
            "|The Thief of Bagdad          |1924|1213880.0|1   |\n",
            "|The Big Parade               |1925|2.2E7    |1   |\n",
            "|Ben-Hur: A Tale of the Christ|1925|9000000.0|2   |\n",
            "|The Gold Rush                |1925|2500000.0|3   |\n",
            "|Battleship Potemkin          |1925|45100.0  |4   |\n",
            "|The Merry Widow              |1925|1.0      |5   |\n",
            "|Sparrows                     |1926|966878.0 |1   |\n",
            "|Flesh and the Devil          |1926|658000.0 |2   |\n",
            "|My Best Girl                 |1927|1027757.0|1   |\n",
            "|Metropolis                   |1927|650422.0 |2   |\n",
            "|Sunrise: A Song of Two Humans|1927|121.0    |3   |\n",
            "|Lights of New York           |1928|1200000.0|1   |\n",
            "|West of Zanzibar             |1928|921000.0 |2   |\n",
            "+-----------------------------+----+---------+----+\n",
            "only showing top 20 rows\n",
            "\n"
          ]
        }
      ]
    }
  ]
}